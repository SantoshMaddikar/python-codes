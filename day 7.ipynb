{
 "cells": [
  {
   "cell_type": "code",
   "execution_count": 16,
   "id": "03bc58e5-f8b2-4fd9-b8d9-c081d004f81b",
   "metadata": {},
   "outputs": [
    {
     "name": "stdout",
     "output_type": "stream",
     "text": [
      "[13, 14, 17, 15, 20, 26, 22, 24, 26, 20, 23, 21, 14, 14, 17, 19, 22, 24, 21, 23, 22, 24, 21, 19, 24]\n"
     ]
    },
    {
     "ename": "IndexError",
     "evalue": "list index out of range",
     "output_type": "error",
     "traceback": [
      "\u001b[1;31m---------------------------------------------------------------------------\u001b[0m",
      "\u001b[1;31mIndexError\u001b[0m                                Traceback (most recent call last)",
      "Cell \u001b[1;32mIn[16], line 14\u001b[0m\n\u001b[0;32m     11\u001b[0m \u001b[38;5;28mprint\u001b[39m(a)\n\u001b[0;32m     13\u001b[0m \u001b[38;5;28;01mfor\u001b[39;00m i \u001b[38;5;129;01min\u001b[39;00m a:\n\u001b[1;32m---> 14\u001b[0m     \u001b[38;5;28;01mif\u001b[39;00m \u001b[43ma\u001b[49m\u001b[43m[\u001b[49m\u001b[43mi\u001b[49m\u001b[43m]\u001b[49m\u001b[38;5;241m>\u001b[39m\u001b[38;5;241m=\u001b[39mMAX:\n\u001b[0;32m     15\u001b[0m         MAX\u001b[38;5;241m=\u001b[39ma[i]\n\u001b[0;32m     17\u001b[0m \u001b[38;5;28mprint\u001b[39m(\u001b[38;5;124m\"\u001b[39m\u001b[38;5;124m------------------------------------------\u001b[39m\u001b[38;5;124m\"\u001b[39m)\n",
      "\u001b[1;31mIndexError\u001b[0m: list index out of range"
     ]
    }
   ],
   "source": [
    "#find the maximum sum of any 3 concsecutive elements of this array\n",
    "l=[2,4,6,1,3,7,4,6,9,3,6,8,3,6,4,1,3,9,6,4,5,6,8,3,7,3,6,8]\n",
    "a=[]\n",
    "s=0\n",
    "MAX=0\n",
    "SUM=0\n",
    "for i in range(0,(len(l)-3)):\n",
    "    s=l[i]+l[i+1]+l[i+2]+l[i+3]\n",
    "    a.append(s)\n",
    "\n",
    "print(a)\n",
    "\n",
    "for i in a:\n",
    "    if a[i]>=MAX:\n",
    "        MAX=a[i]\n",
    "\n",
    "print(\"------------------------------------------\")\n",
    "\n",
    "print(\"max value--->\",MAX)\n",
    "\n",
    "\n",
    "\n",
    "\n",
    "\n",
    "     \n",
    "\n",
    "\n",
    "    "
   ]
  },
  {
   "cell_type": "code",
   "execution_count": 33,
   "id": "8a401739-f885-430a-8d13-9dc4cae241b2",
   "metadata": {},
   "outputs": [
    {
     "name": "stdin",
     "output_type": "stream",
     "text": [
      "enter the consecutive number: 4\n"
     ]
    }
   ],
   "source": [
    "L=[2,4,6,1,3,7,4,6,9,3,6,8,3,6,4,1,3,9,6,4,5,6,8,3,7,3,6,8]\n",
    "\n",
    "max = 0\n",
    "\n",
    "con=int(input(\"enter the consecutive number:\"))\n",
    "\n",
    "for x in range(0,len(L)-con):\n",
    "     s=0\\\n",
    "     for j in range(0,con):\n",
    "         s=s+L[x+j]\n",
    "         if max<s:\n",
    "             max=s"
   ]
  },
  {
   "cell_type": "code",
   "execution_count": 2,
   "id": "2d60245b-2182-4625-a039-cd876907f480",
   "metadata": {},
   "outputs": [
    {
     "name": "stdin",
     "output_type": "stream",
     "text": [
      "Enter the limit: 6\n"
     ]
    },
    {
     "name": "stdout",
     "output_type": "stream",
     "text": [
      "Enter the Numbers: \n"
     ]
    },
    {
     "name": "stdin",
     "output_type": "stream",
     "text": [
      " 2\n",
      " 7\n",
      " 5\n",
      " 4\n",
      " 9\n",
      " 4\n"
     ]
    },
    {
     "name": "stdout",
     "output_type": "stream",
     "text": [
      "Before Sorting:  [2, 7, 5, 4, 9, 4]\n",
      "After Sorting:  [2, 4, 4, 5, 7, 9]\n"
     ]
    }
   ],
   "source": [
    "l=[]\n",
    "n=int(input(\"Enter the limit:\"))\n",
    "print(\"Enter the Numbers: \")\n",
    "for i in range(0,n,+1):\n",
    "    a=int(input())\n",
    "    l.append(a)\n",
    "    \n",
    "print(\"Before Sorting: \",l)\n",
    "\n",
    "for i in range(0,len(l)-1):\n",
    "    for j in range(i+1,len(l)):\n",
    "        if l[i]>l[j]:\n",
    "            l[i],l[j]=l[j],l[i]\n",
    "\n",
    "print(\"After Sorting: \",l)"
   ]
  },
  {
   "cell_type": "code",
   "execution_count": null,
   "id": "d3cad1e4-6d3e-44dc-9f81-c5a0e4068b7f",
   "metadata": {},
   "outputs": [],
   "source": []
  }
 ],
 "metadata": {
  "kernelspec": {
   "display_name": "Python 3 (ipykernel)",
   "language": "python",
   "name": "python3"
  },
  "language_info": {
   "codemirror_mode": {
    "name": "ipython",
    "version": 3
   },
   "file_extension": ".py",
   "mimetype": "text/x-python",
   "name": "python",
   "nbconvert_exporter": "python",
   "pygments_lexer": "ipython3",
   "version": "3.12.3"
  }
 },
 "nbformat": 4,
 "nbformat_minor": 5
}
