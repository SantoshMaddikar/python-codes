{
 "cells": [
  {
   "cell_type": "code",
   "execution_count": 1,
   "id": "5223cf78-4d67-42d6-a15c-d9059da94a6b",
   "metadata": {},
   "outputs": [
    {
     "name": "stdin",
     "output_type": "stream",
     "text": [
      " abccba\n"
     ]
    },
    {
     "name": "stdout",
     "output_type": "stream",
     "text": [
      "polindrom\n"
     ]
    }
   ],
   "source": [
    "a=input()\n",
    "flag = 0\n",
    "for i in range (0,int(len(a)/2)):\n",
    "    if a[i] !=a[(i+1)*-1]:\n",
    "        flag = 1\n",
    "        break\n",
    "if flag:\n",
    "            print(\"not pollindron\")\n",
    "else:\n",
    "            print(\"pollindrom\")"
   ]
  },
  {
   "cell_type": "code",
   "execution_count": 6,
   "id": "5793a7c4-5291-4cad-ad5e-580e15a89264",
   "metadata": {},
   "outputs": [
    {
     "name": "stdin",
     "output_type": "stream",
     "text": [
      "Enter A number:  79\n"
     ]
    },
    {
     "name": "stdout",
     "output_type": "stream",
     "text": [
      "The number is a prime number\n"
     ]
    }
   ],
   "source": [
    "#Write a program for prime numbers. \n",
    "n=int(input(\"Enter A number: \"))\n",
    "flag=0\n",
    "for x in range(2,n):\n",
    "    if n%x==0:\n",
    "        flag=1\n",
    "\n",
    "if flag:\n",
    "    print(\"The Number is not A Prime Number\")\n",
    "else:\n",
    "    print(\"The number is a prime number\")"
   ]
  },
  {
   "cell_type": "code",
   "execution_count": 2,
   "id": "ef9a6187-5de3-432f-a08c-9203d2d740d7",
   "metadata": {},
   "outputs": [
    {
     "name": "stdout",
     "output_type": "stream",
     "text": [
      "this is my python file\n",
      "143212\n",
      "this is my file\n",
      "143212\n"
     ]
    }
   ],
   "source": [
    "import os \n",
    "with open(\"filename.txt\",\"w\")as f:\n",
    "    f.write(\"this is my python file\\n\")\n",
    "    f.close()\n",
    "with open(\"filename.txt\",'a')as f:\n",
    "    f.write(\"this is my file\")\n",
    "    f.close()\n",
    "\n",
    "with open(\"filename.txt\",'r')as f:\n",
    "    for a in f.read().split(\"\\n\"):\n",
    "        print(a)\n",
    "        print(\"143212\")"
   ]
  },
  {
   "cell_type": "code",
   "execution_count": 3,
   "id": "0b466895-0c41-4c62-9364-7107442e320a",
   "metadata": {},
   "outputs": [
    {
     "data": {
      "text/plain": [
       "0"
      ]
     },
     "execution_count": 3,
     "metadata": {},
     "output_type": "execute_result"
    }
   ],
   "source": [
    "import os\n",
    "\n",
    "# Define the text content\n",
    "text_content = \"This is the first line of the file.\"\n",
    "text_content = \"This is the first line of the file.\"\n",
    "# Write the text content to a file\n",
    "with open(\"file.txt\", 'w') as f:\n",
    "    f.write(text_content)\n",
    "\n",
    "# Open the file in Notepad (for Windows)\n",
    "os.system(\"start notepad file.txt\")"
   ]
  },
  {
   "cell_type": "code",
   "execution_count": 1,
   "id": "65145bac-ae68-4e0a-a0f6-9f08120968ed",
   "metadata": {},
   "outputs": [
    {
     "data": {
      "text/plain": [
       "0"
      ]
     },
     "execution_count": 1,
     "metadata": {},
     "output_type": "execute_result"
    }
   ],
   "source": [
    "import os\n",
    "text_content1 = \"Hello! welcome to the file.\\n\"\n",
    "text_content2 = \"This is the first line of the file.\\n\"\n",
    "text_content3 = \"This is the second line of the file.\"\n",
    "\n",
    "with open(\"file.txt\", 'w') as f:\n",
    "    f.write(text_content1)\n",
    "    f.write(text_content2)\n",
    "    f.write(text_content3)\n",
    "os.system(\"start notepad file.txt\")"
   ]
  },
  {
   "cell_type": "code",
   "execution_count": 1,
   "id": "53602c34-3406-4daf-a658-0a69877008f3",
   "metadata": {},
   "outputs": [
    {
     "name": "stdin",
     "output_type": "stream",
     "text": [
      "Enter the Size of the List:  3\n"
     ]
    },
    {
     "name": "stdout",
     "output_type": "stream",
     "text": [
      "Enter the elements of the list: \n"
     ]
    },
    {
     "name": "stdin",
     "output_type": "stream",
     "text": [
      " 123\n",
      " 124\n",
      " 234\n"
     ]
    },
    {
     "name": "stdout",
     "output_type": "stream",
     "text": [
      "[123, 124, 234]\n",
      "the Sum of all the even numbers in the list :  358\n"
     ]
    }
   ],
   "source": [
    "#Find the sum of all even numbers in a list.\n",
    "d=[]\n",
    "n=int(input(\"Enter the Size of the List: \"))\n",
    "print(\"Enter the elements of the list: \")\n",
    "for i in range(0,n):\n",
    "    a=int(input())\n",
    "    d.append(a)\n",
    "    \n",
    "print(d)\n",
    "sum=0\n",
    "for i in range(0,n):\n",
    "    if((d[i]%2)==0):\n",
    "        sum+=d[i]\n",
    "\n",
    "print(\"the Sum of all the even numbers in the list :\",end=\"  \")\n",
    "print(sum)"
   ]
  },
  {
   "cell_type": "code",
   "execution_count": 2,
   "id": "069644d0-7afe-4f90-b1c8-8843960a65c1",
   "metadata": {},
   "outputs": [
    {
     "name": "stdin",
     "output_type": "stream",
     "text": [
      "Enter the Temperature in Celsius:  40\n"
     ]
    },
    {
     "name": "stdout",
     "output_type": "stream",
     "text": [
      "The Given Temperature in Fahrenhiet: 104.0\n"
     ]
    }
   ],
   "source": [
    "#program to Convert Temperature from Celsius to Fahrenhiet\n",
    "Cel=int(input(\"Enter the Temperature in Celsius: \"))\n",
    "fah=(Cel*1.8)+32\n",
    "print(\"The Given Temperature in Fahrenhiet:\",fah)"
   ]
  },
  {
   "cell_type": "code",
   "execution_count": 3,
   "id": "3c2b3dd4-c727-4288-9677-22a9334e45b6",
   "metadata": {},
   "outputs": [
    {
     "name": "stdin",
     "output_type": "stream",
     "text": [
      "Enter the size:  3\n"
     ]
    },
    {
     "name": "stdout",
     "output_type": "stream",
     "text": [
      "Enter the elements: \n"
     ]
    },
    {
     "name": "stdin",
     "output_type": "stream",
     "text": [
      " 3\n",
      " 4\n",
      " 5\n"
     ]
    },
    {
     "name": "stdout",
     "output_type": "stream",
     "text": [
      "The Second Largest: 4\n"
     ]
    }
   ],
   "source": [
    "#program to find Second largest Number\n",
    "d=[]\n",
    "n=int(input(\"Enter the size: \"))\n",
    "print(\"Enter the elements: \")\n",
    "for i in range(0,n):\n",
    "    a=int(input())\n",
    "    d.append(a)\n",
    "\n",
    "d.sort()\n",
    "print(\"The Second Largest:\",end=\" \")\n",
    "print(d[-2])"
   ]
  },
  {
   "cell_type": "code",
   "execution_count": 5,
   "id": "d65cfe18-4686-43d0-8e50-a4349509001e",
   "metadata": {},
   "outputs": [
    {
     "name": "stdin",
     "output_type": "stream",
     "text": [
      " 86\n",
      " 86\n",
      " 95\n",
      " 95\n",
      " 63\n",
      " 63\n",
      " 63\n",
      " 25\n",
      " 25\n",
      " 14\n"
     ]
    },
    {
     "name": "stdout",
     "output_type": "stream",
     "text": [
      "{'86': 2, '95': 2, '63': 3, '25': 2, '14': 1}\n"
     ]
    }
   ],
   "source": [
    "#program for Counting occurences of each element in the list\n",
    "o=[]\n",
    "for i in range(0,10):\n",
    "    a=input()\n",
    "    o.append(a)\n",
    "    \n",
    "d={}\n",
    "for i in o:\n",
    "    if i not in d:\n",
    "        d[i]=o.count(i)\n",
    "print(d)"
   ]
  },
  {
   "cell_type": "code",
   "execution_count": null,
   "id": "dc52481e-92eb-43a4-94a0-f13f20a49a2e",
   "metadata": {},
   "outputs": [],
   "source": []
  }
 ],
 "metadata": {
  "kernelspec": {
   "display_name": "Python 3 (ipykernel)",
   "language": "python",
   "name": "python3"
  },
  "language_info": {
   "codemirror_mode": {
    "name": "ipython",
    "version": 3
   },
   "file_extension": ".py",
   "mimetype": "text/x-python",
   "name": "python",
   "nbconvert_exporter": "python",
   "pygments_lexer": "ipython3",
   "version": "3.12.3"
  }
 },
 "nbformat": 4,
 "nbformat_minor": 5
}
