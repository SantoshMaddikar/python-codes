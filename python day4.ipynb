{
 "cells": [
  {
   "cell_type": "code",
   "execution_count": 1,
   "id": "5223cf78-4d67-42d6-a15c-d9059da94a6b",
   "metadata": {},
   "outputs": [
    {
     "name": "stdin",
     "output_type": "stream",
     "text": [
      " abccba\n"
     ]
    },
    {
     "name": "stdout",
     "output_type": "stream",
     "text": [
      "polindrom\n"
     ]
    }
   ],
   "source": [
    "a=input()\n",
    "flag = 0\n",
    "for i in range (0,int(len(a)/2)):\n",
    "    if a[i] !=a[(i+1)*-1]:\n",
    "        flag = 1\n",
    "        break\n",
    "if flag:\n",
    "            print(\"not pollindron\")\n",
    "else:\n",
    "            print(\"pollindrom\")"
   ]
  },
  {
   "cell_type": "code",
   "execution_count": 6,
   "id": "5793a7c4-5291-4cad-ad5e-580e15a89264",
   "metadata": {},
   "outputs": [
    {
     "name": "stdin",
     "output_type": "stream",
     "text": [
      "Enter A number:  79\n"
     ]
    },
    {
     "name": "stdout",
     "output_type": "stream",
     "text": [
      "The number is a prime number\n"
     ]
    }
   ],
   "source": [
    "#Write a program for prime numbers. \n",
    "n=int(input(\"Enter A number: \"))\n",
    "flag=0\n",
    "for x in range(2,n):\n",
    "    if n%x==0:\n",
    "        flag=1\n",
    "\n",
    "if flag:\n",
    "    print(\"The Number is not A Prime Number\")\n",
    "else:\n",
    "    print(\"The number is a prime number\")"
   ]
  },
  {
   "cell_type": "code",
   "execution_count": 2,
   "id": "ef9a6187-5de3-432f-a08c-9203d2d740d7",
   "metadata": {},
   "outputs": [
    {
     "name": "stdout",
     "output_type": "stream",
     "text": [
      "this is my python file\n",
      "143212\n",
      "this is my file\n",
      "143212\n"
     ]
    }
   ],
   "source": [
    "import os \n",
    "with open(\"filename.txt\",\"w\")as f:\n",
    "    f.write(\"this is my python file\\n\")\n",
    "    f.close()\n",
    "with open(\"filename.txt\",'a')as f:\n",
    "    f.write(\"this is my file\")\n",
    "    f.close()\n",
    "\n",
    "with open(\"filename.txt\",'r')as f:\n",
    "    for a in f.read().split(\"\\n\"):\n",
    "        print(a)\n",
    "        print(\"143212\")"
   ]
  },
  {
   "cell_type": "code",
   "execution_count": 3,
   "id": "0b466895-0c41-4c62-9364-7107442e320a",
   "metadata": {},
   "outputs": [
    {
     "data": {
      "text/plain": [
       "0"
      ]
     },
     "execution_count": 3,
     "metadata": {},
     "output_type": "execute_result"
    }
   ],
   "source": [
    "import os\n",
    "\n",
    "# Define the text content\n",
    "text_content = \"This is the first line of the file.\"\n",
    "text_content = \"This is the first line of the file.\"\n",
    "# Write the text content to a file\n",
    "with open(\"file.txt\", 'w') as f:\n",
    "    f.write(text_content)\n",
    "\n",
    "# Open the file in Notepad (for Windows)\n",
    "os.system(\"start notepad file.txt\")"
   ]
  },
  {
   "cell_type": "code",
   "execution_count": 1,
   "id": "65145bac-ae68-4e0a-a0f6-9f08120968ed",
   "metadata": {},
   "outputs": [
    {
     "data": {
      "text/plain": [
       "0"
      ]
     },
     "execution_count": 1,
     "metadata": {},
     "output_type": "execute_result"
    }
   ],
   "source": [
    "import os\n",
    "text_content1 = \"Hello! welcome to the file.\\n\"\n",
    "text_content2 = \"This is the first line of the file.\\n\"\n",
    "text_content3 = \"This is the second line of the file.\"\n",
    "\n",
    "with open(\"file.txt\", 'w') as f:\n",
    "    f.write(text_content1)\n",
    "    f.write(text_content2)\n",
    "    f.write(text_content3)\n",
    "os.system(\"start notepad file.txt\")"
   ]
  },
  {
   "cell_type": "code",
   "execution_count": null,
   "id": "bfccd8e4-f4d3-4586-b0b6-955c630a7fff",
   "metadata": {},
   "outputs": [],
   "source": [
    "import os \n",
    "with open(\"fruit name.txt\",\"w\")as f:\n",
    "    f.write(input(\"enter the type of fruits\"))\n",
    "    f.close\n",
    "\n",
    "with"
   ]
  }
 ],
 "metadata": {
  "kernelspec": {
   "display_name": "Python 3 (ipykernel)",
   "language": "python",
   "name": "python3"
  },
  "language_info": {
   "codemirror_mode": {
    "name": "ipython",
    "version": 3
   },
   "file_extension": ".py",
   "mimetype": "text/x-python",
   "name": "python",
   "nbconvert_exporter": "python",
   "pygments_lexer": "ipython3",
   "version": "3.12.3"
  }
 },
 "nbformat": 4,
 "nbformat_minor": 5
}
