{
 "cells": [
  {
   "cell_type": "code",
   "execution_count": 12,
   "id": "ec893662-b9df-416c-8933-599e19bb8e5b",
   "metadata": {},
   "outputs": [
    {
     "name": "stdout",
     "output_type": "stream",
     "text": [
      "2 * 1 = 2\n",
      "2 * 2 = 4\n",
      "2 * 3 = 6\n",
      "2 * 4 = 8\n",
      "2 * 5 = 10\n",
      "2 * 6 = 12\n",
      "2 * 7 = 14\n",
      "2 * 8 = 16\n",
      "2 * 9 = 18\n",
      "2 * 10 = 20\n"
     ]
    }
   ],
   "source": [
    "def print_table_of_2():\n",
    "    for i in range(1,11):\n",
    "        print(f\"2 * {i} = {2*i}\")\n",
    "\n",
    "print_table_of_2()\n",
    "\n"
   ]
  },
  {
   "cell_type": "code",
   "execution_count": 6,
   "id": "43289b01-c318-4172-ad52-73fd9bf52632",
   "metadata": {},
   "outputs": [
    {
     "name": "stdout",
     "output_type": "stream",
     "text": [
      "3\n",
      "6\n",
      "9\n",
      "12\n",
      "15\n",
      "18\n",
      "21\n",
      "24\n",
      "27\n",
      "30\n"
     ]
    }
   ],
   "source": [
    "for i in range(1,11):\n",
    "    print(i*3)\n",
    "\n",
    "# initialagation :    i=1\n",
    "# condition      :    range<11\n",
    "# updation       :    i=i+1\n",
    "# statement      :    i*2"
   ]
  },
  {
   "cell_type": "code",
   "execution_count": 21,
   "id": "c4fe3b12-64f2-4bfb-9dbe-f8ae456e4122",
   "metadata": {},
   "outputs": [
    {
     "ename": "IndentationError",
     "evalue": "expected an indented block after 'if' statement on line 2 (1975579602.py, line 3)",
     "output_type": "error",
     "traceback": [
      "\u001b[1;36m  Cell \u001b[1;32mIn[21], line 3\u001b[1;36m\u001b[0m\n\u001b[1;33m    return\u001b[0m\n\u001b[1;37m    ^\u001b[0m\n\u001b[1;31mIndentationError\u001b[0m\u001b[1;31m:\u001b[0m expected an indented block after 'if' statement on line 2\n"
     ]
    }
   ],
   "source": [
    "def fun(i):\n",
    "    if i==11:\n",
    "    return\n",
    "    print(i*2)\n",
    "    i=i+1\n",
    "    fun(i)\n",
    "    return"
   ]
  },
  {
   "cell_type": "code",
   "execution_count": 22,
   "id": "521faa6f-32ce-4f79-a307-5178c7491d84",
   "metadata": {},
   "outputs": [
    {
     "name": "stdout",
     "output_type": "stream",
     "text": [
      "The factorial of 5 is 120\n"
     ]
    }
   ],
   "source": [
    "def factorial(n):\n",
    "    if n == 0 or n == 1:\n",
    "        return 1\n",
    "    else:\n",
    "        return n * factorial(n - 1)\n",
    "\n",
    "# Example usage\n",
    "number = 5\n",
    "result = factorial(number)\n",
    "print(f\"The factorial of {number} is {result}\")\n"
   ]
  },
  {
   "cell_type": "code",
   "execution_count": 38,
   "id": "aa735601-fb1e-47f8-abbf-384740c45834",
   "metadata": {},
   "outputs": [
    {
     "name": "stdin",
     "output_type": "stream",
     "text": [
      "enter the value 9\n"
     ]
    },
    {
     "name": "stdout",
     "output_type": "stream",
     "text": [
      "9\n",
      "72\n",
      "504\n",
      "3024\n",
      "15120\n",
      "60480\n",
      "181440\n",
      "362880\n"
     ]
    }
   ],
   "source": [
    "fact=1\n",
    "n=int(input(\"enter the value\"))\n",
    "for i in range(n,1,-1):\n",
    "    fact*=i\n",
    "    print(fact)"
   ]
  },
  {
   "cell_type": "code",
   "execution_count": 2,
   "id": "fdc524dd-8dcd-457f-962a-3a0bc43259c7",
   "metadata": {},
   "outputs": [
    {
     "name": "stdout",
     "output_type": "stream",
     "text": [
      "node 1 <__main__.node object at 0x00000265728BBE00> ---> apple\n",
      "node 2 <__main__.node object at 0x00000265728BBEC0> ---> book\n",
      "node 3 <__main__.node object at 0x00000265728BBA40> ---> cat\n",
      "node 4 <__main__.node object at 0x00000265728BB170> ---> bird\n"
     ]
    }
   ],
   "source": [
    "#linked list\n",
    "class node:\n",
    "    def __init__(self,d):\n",
    "        self.data=d\n",
    "        self.next=None\n",
    "\n",
    "a=node(\"apple\")\n",
    "b=node(\"book\")\n",
    "c=node(\"cat\")\n",
    "d=node(\"bird\")\n",
    "\n",
    "head=a\n",
    "head.next=b\n",
    "head.next.next=c\n",
    "head.next.next.next=d\n",
    "\n",
    "print(\"node 1\",head,\"--->\",head.data)\n",
    "print(\"node 2\",head.next,\"--->\",head.next.data)\n",
    "print(\"node 3\",head.next.next,\"--->\",head.next.next.data)\n",
    "print(\"node 4\",head.next.next.next,\"--->\",head.next.next.next.data)"
   ]
  },
  {
   "cell_type": "code",
   "execution_count": 4,
   "id": "0a4c6ff6-2b5c-4a27-bf49-3e41bacdc67b",
   "metadata": {},
   "outputs": [
    {
     "name": "stdout",
     "output_type": "stream",
     "text": [
      "node 1 <__main__.node object at 0x00000265728BB1D0> ---> 1\n",
      "node 2 <__main__.node object at 0x00000265728BBE90> ---> 2\n",
      "node 3 <__main__.node object at 0x00000265728BBE60> ---> 3\n",
      "node 4 <__main__.node object at 0x00000265728BA510> ---> 4\n"
     ]
    }
   ],
   "source": [
    "class node:\n",
    "    def __init__(self,d):\n",
    "        self.data=d\n",
    "        self.next=None\n",
    "head=node(1)\n",
    "head.next=node(2)\n",
    "head.next.next=node(3)\n",
    "head.next.next.next=node(4)\n",
    "\n",
    "print(\"node 1\",head,\"--->\",head.data)\n",
    "print(\"node 2\",head.next,\"--->\",head.next.data)\n",
    "print(\"node 3\",head.next.next,\"--->\",head.next.next.data)\n",
    "print(\"node 4\",head.next.next.next,\"--->\",head.next.next.next.data)"
   ]
  },
  {
   "cell_type": "code",
   "execution_count": null,
   "id": "6a232fea-eecc-4ba9-80b5-06e56bdaa11e",
   "metadata": {},
   "outputs": [],
   "source": []
  }
 ],
 "metadata": {
  "kernelspec": {
   "display_name": "Python 3 (ipykernel)",
   "language": "python",
   "name": "python3"
  },
  "language_info": {
   "codemirror_mode": {
    "name": "ipython",
    "version": 3
   },
   "file_extension": ".py",
   "mimetype": "text/x-python",
   "name": "python",
   "nbconvert_exporter": "python",
   "pygments_lexer": "ipython3",
   "version": "3.12.3"
  }
 },
 "nbformat": 4,
 "nbformat_minor": 5
}
