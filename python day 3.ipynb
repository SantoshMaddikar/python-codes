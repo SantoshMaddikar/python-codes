{
 "cells": [
  {
   "cell_type": "code",
   "execution_count": 1,
   "id": "ad0e8817-f061-40a9-a4e4-6c46c29b92dd",
   "metadata": {},
   "outputs": [
    {
     "name": "stdout",
     "output_type": "stream",
     "text": [
      "[1, 2, 3, 4, 5, 6, 7.8, 9]\n"
     ]
    }
   ],
   "source": [
    "a=[1,2,3,4,5,6,7.8,9]\n",
    "print(a)"
   ]
  },
  {
   "cell_type": "code",
   "execution_count": 4,
   "id": "fde93a59-ca41-443c-b85b-ba8f733dc1f5",
   "metadata": {},
   "outputs": [
    {
     "name": "stdout",
     "output_type": "stream",
     "text": [
      "[1, 2, 3, 4, 5, 6, 7.8, 9]\n",
      "<class 'float'>\n",
      "<class 'int'>\n"
     ]
    }
   ],
   "source": [
    "a=[1,2,3,4,5,6,7.8,9]\n",
    "print(a)\n",
    "print(type(a[6]))\n",
    "print(type(a[2]))"
   ]
  },
  {
   "cell_type": "code",
   "execution_count": 7,
   "id": "c69a4a33-4cc6-4ef0-a6d2-6ec1bd8c5510",
   "metadata": {},
   "outputs": [
    {
     "name": "stdout",
     "output_type": "stream",
     "text": [
      "1   2   3   4   5   6   7   8   9   10   "
     ]
    }
   ],
   "source": [
    "a=[1,2,3,4,5,6,7,8,9,10]\n",
    "for x in range(10):\n",
    "    print(a[x],end=\"   \")"
   ]
  },
  {
   "cell_type": "code",
   "execution_count": null,
   "id": "5a45502d-3951-45b9-ba61-f1770198e2de",
   "metadata": {},
   "outputs": [],
   "source": [
    "pop to pull out element of the list\n",
    "sort use to sort the list"
   ]
  },
  {
   "cell_type": "code",
   "execution_count": 9,
   "id": "7ca32566-3a96-483f-bdd9-f742232de307",
   "metadata": {},
   "outputs": [
    {
     "name": "stdout",
     "output_type": "stream",
     "text": [
      "4\n"
     ]
    }
   ],
   "source": [
    "a=[1,2,3,4,5]\n",
    "b=a.copy()\n",
    "\n",
    "c=b.pop(3)\n",
    "print(c)"
   ]
  },
  {
   "cell_type": "code",
   "execution_count": 16,
   "id": "5fc5eefa-3aa4-4ca0-ba27-8fb49c15aa82",
   "metadata": {},
   "outputs": [
    {
     "name": "stdout",
     "output_type": "stream",
     "text": [
      "[1, 2, 3, 4, 5]\n",
      "3\n",
      "[1, 2, 4, 5]\n",
      "[1, 2, 4, 5, 0]\n",
      "1\n",
      "1\n",
      "[1, 2, 9, 4, 5, 0]\n",
      "[1, 2, 9, 5, 0]\n",
      "[0, 1, 2, 5, 9]\n",
      "[9, 5, 2, 1, 0]\n"
     ]
    }
   ],
   "source": [
    "a=[1,2,3,4,5]\n",
    "b=a.copy()\n",
    "print(b)\n",
    "\n",
    "c=b.pop(2)\n",
    "print(c)\n",
    "\n",
    "print(b)\n",
    "b.append(0)\n",
    "print(b)\n",
    "\n",
    "print(b.index(2))\n",
    "\n",
    "print(b.count(1))\n",
    "\n",
    "b.insert(2,9)\n",
    "print(b)\n",
    "\n",
    "b.remove(4)\n",
    "print(b)\n",
    "\n",
    "\n",
    "b.sort()\n",
    "print(b)\n",
    "\n",
    "\n",
    "b.sort(reverse=True)\n",
    "print(b)\n",
    "\n"
   ]
  },
  {
   "cell_type": "markdown",
   "id": "a67b51c1-9825-43ef-a2ca-d1464d015bf6",
   "metadata": {},
   "source": [
    "## x[]\n",
    "n=int(int(\"enter the size of element\"))\n",
    "ptint(\"enter your element\")\n",
    "for i range(0,n)\n",
    "a=int(input())\n",
    "x.append(a)\n",
    "print(x)"
   ]
  },
  {
   "cell_type": "code",
   "execution_count": 36,
   "id": "f04641a8-d462-435e-80bb-48a01426a3ee",
   "metadata": {},
   "outputs": [
    {
     "name": "stdin",
     "output_type": "stream",
     "text": [
      "enter the size of list: 5\n",
      " 1\n",
      " 2\n",
      " 3\n",
      " 4\n",
      " 5\n"
     ]
    },
    {
     "name": "stdout",
     "output_type": "stream",
     "text": [
      "[1, 2, 3, 4, 5]\n"
     ]
    }
   ],
   "source": [
    "x=[]\n",
    "n=int(input(\"enter the size of list:\"))\n",
    "for i in range(0,n):\n",
    "     a=int(input())\n",
    "     x.append(a)\n",
    "print(x)"
   ]
  },
  {
   "cell_type": "code",
   "execution_count": 38,
   "id": "715d5c42-0b45-47f2-b69a-6f13cb01ef7f",
   "metadata": {},
   "outputs": [
    {
     "name": "stdout",
     "output_type": "stream",
     "text": [
      "(1, 2, 3, 4, 5, 6, 7, 8, 9, 'python')\n",
      "[1, 2, 3, 4, 5, 6, 7, 8, 9, 'python']\n",
      "(1, 2, 3, 4, 5, 6, 7, 8, 9, 'java')\n"
     ]
    }
   ],
   "source": [
    "a=(1,2,3,4,5,6,7,8,9,\"python\")\n",
    "print(a)\n",
    "\n",
    "b=list(a)\n",
    "print(b)\n",
    "b[9]=\"java\"\n",
    "\n",
    "a=tuple(b)\n",
    "print(a)"
   ]
  },
  {
   "cell_type": "code",
   "execution_count": 46,
   "id": "29c22282-60bc-4618-ba70-f1ae8a1d4b4f",
   "metadata": {},
   "outputs": [
    {
     "name": "stdout",
     "output_type": "stream",
     "text": [
      "9 8 7 6 5 4 3 2 1 "
     ]
    }
   ],
   "source": [
    "a=[1,2,3,4,5,6,7,8,9]\n",
    "for x in range(-1,-1*(len(a)+1),-1):\n",
    "    print(a[x],end=\" \")"
   ]
  },
  {
   "cell_type": "code",
   "execution_count": 5,
   "id": "2b3af862-69a3-4420-afa4-3a2a1672aec3",
   "metadata": {},
   "outputs": [
    {
     "name": "stdin",
     "output_type": "stream",
     "text": [
      "enter the key 1\n"
     ]
    },
    {
     "name": "stdout",
     "output_type": "stream",
     "text": [
      "jamssy\n"
     ]
    }
   ],
   "source": [
    "a={1:'jamssy',2:'santosh',3:'you',4:'me'}\n",
    "i=int(input(\"enter the key\"))\n",
    "try:\n",
    "    print(a[i])\n",
    "except:\n",
    "    print(\"ERROR\",\"no value and key found\")"
   ]
  },
  {
   "cell_type": "code",
   "execution_count": 6,
   "id": "a6022bf8-744d-41a1-8009-8cd89e47f7ee",
   "metadata": {},
   "outputs": [
    {
     "name": "stdin",
     "output_type": "stream",
     "text": [
      "enter the key 5\n"
     ]
    },
    {
     "name": "stdout",
     "output_type": "stream",
     "text": [
      "ERROR\n"
     ]
    }
   ],
   "source": [
    "a={1:'jamssy',2:'santosh',3:'you',4:'me'}\n",
    "i=int(input(\"enter the key\"))\n",
    "try:\n",
    "    print(a[i])\n",
    "except:\n",
    "    print(\"ERROR\")"
   ]
  },
  {
   "cell_type": "code",
   "execution_count": 7,
   "id": "d8e8f062-c701-41fe-aa0d-dcc64ae31394",
   "metadata": {},
   "outputs": [
    {
     "name": "stdin",
     "output_type": "stream",
     "text": [
      " a\n",
      " 2\n"
     ]
    },
    {
     "name": "stdout",
     "output_type": "stream",
     "text": [
      "code exection done\n"
     ]
    },
    {
     "ename": "NameError",
     "evalue": "name 'ZeroDivisonError' is not defined",
     "output_type": "error",
     "traceback": [
      "\u001b[1;31m---------------------------------------------------------------------------\u001b[0m",
      "\u001b[1;31mValueError\u001b[0m                                Traceback (most recent call last)",
      "Cell \u001b[1;32mIn[7], line 4\u001b[0m\n\u001b[0;32m      3\u001b[0m  b\u001b[38;5;241m=\u001b[39m\u001b[38;5;28minput\u001b[39m()\n\u001b[1;32m----> 4\u001b[0m  c\u001b[38;5;241m=\u001b[39m\u001b[38;5;28;43mint\u001b[39;49m\u001b[43m(\u001b[49m\u001b[43ma\u001b[49m\u001b[43m)\u001b[49m\u001b[38;5;241m/\u001b[39m\u001b[38;5;28mint\u001b[39m(b)\n\u001b[0;32m      5\u001b[0m \u001b[38;5;66;03m# x=\"hello\"/3\u001b[39;00m\n",
      "\u001b[1;31mValueError\u001b[0m: invalid literal for int() with base 10: 'a'",
      "\nDuring handling of the above exception, another exception occurred:\n",
      "\u001b[1;31mNameError\u001b[0m                                 Traceback (most recent call last)",
      "Cell \u001b[1;32mIn[7], line 6\u001b[0m\n\u001b[0;32m      4\u001b[0m     c\u001b[38;5;241m=\u001b[39m\u001b[38;5;28mint\u001b[39m(a)\u001b[38;5;241m/\u001b[39m\u001b[38;5;28mint\u001b[39m(b)\n\u001b[0;32m      5\u001b[0m    \u001b[38;5;66;03m# x=\"hello\"/3\u001b[39;00m\n\u001b[1;32m----> 6\u001b[0m \u001b[38;5;28;01mexcept\u001b[39;00m \u001b[43mZeroDivisonError\u001b[49m:\n\u001b[0;32m      7\u001b[0m     \u001b[38;5;28mprint\u001b[39m(\u001b[38;5;124m\"\u001b[39m\u001b[38;5;124mcan\u001b[39m\u001b[38;5;124m'\u001b[39m\u001b[38;5;124mt divide by 0\u001b[39m\u001b[38;5;124m\"\u001b[39m)\n\u001b[0;32m      8\u001b[0m \u001b[38;5;28;01mexcept\u001b[39;00m \u001b[38;5;167;01mValueError\u001b[39;00m:\n",
      "\u001b[1;31mNameError\u001b[0m: name 'ZeroDivisonError' is not defined"
     ]
    }
   ],
   "source": [
    "try:\n",
    "    a=input()\n",
    "    b=input()\n",
    "    c=int(a)/int(b)\n",
    "   # x=\"hello\"/3\n",
    "except ZeroDivisonError:\n",
    "    print(\"can't divide by 0\")\n",
    "except ValueError:\n",
    "    print(\"value unable to convert\")\n",
    "except:\n",
    "    print(\"some unknown Error found\")\n",
    "else:\n",
    "    print(\"NO ERROR\")\n",
    "finally:\n",
    "    print(\"code exection done\")"
   ]
  },
  {
   "cell_type": "code",
   "execution_count": 1,
   "id": "91ef0e4e-b066-4b41-812b-91fb6e871b9b",
   "metadata": {},
   "outputs": [
    {
     "name": "stdout",
     "output_type": "stream",
     "text": [
      "1.ADDITION  2.SUBTRACTION 3.MULTIPILICATION 4.DIVISION  5.MODULS 6.POWER  \n"
     ]
    },
    {
     "name": "stdin",
     "output_type": "stream",
     "text": [
      "enter your choice 1\n",
      "enter the value of a 2\n",
      "enter the value of b 5\n"
     ]
    },
    {
     "name": "stdout",
     "output_type": "stream",
     "text": [
      "7\n"
     ]
    }
   ],
   "source": [
    "#Develop a  menu driven code to perform the basic arithmetic operations like addition \n",
    "#subtraction \n",
    "#division \n",
    "#moduls \n",
    "#multiplication \n",
    "#power\n",
    "\n",
    "print(\"1.ADDITION  2.SUBTRACTION 3.MULTIPILICATION 4.DIVISION  5.MODULS 6.POWER  \")\n",
    "ch=int(input(\"enter your choice\"))\n",
    "a=int(input(\"enter the value of a\"))\n",
    "b=int(input(\"enter the value of b\"))\n",
    "match ch:\n",
    " case 1:print(a+b)\n",
    " case 2:print(a-b)\n",
    " case 3:print(a*b)\n",
    " case 4:print(a/b)\n",
    " case 5:print(a%b)\n",
    " case 6:print(a**b)\n",
    " case _:print(\"---invalid---\")"
   ]
  },
  {
   "cell_type": "markdown",
   "id": "54d4d397-30e9-42cd-9d63-99feb0ce3571",
   "metadata": {},
   "source": []
  },
  {
   "cell_type": "code",
   "execution_count": 3,
   "id": "655eff5a-9894-44ce-9fbe-d8836d2a391f",
   "metadata": {},
   "outputs": [
    {
     "name": "stdin",
     "output_type": "stream",
     "text": [
      "Enter a character: A\n"
     ]
    },
    {
     "name": "stdout",
     "output_type": "stream",
     "text": [
      "upper case\n"
     ]
    }
   ],
   "source": [
    "#Write a program to identify the input character by the user as lower case, uper case, numerics or special characters.\n",
    "a=input(\"Enter a character:\")\n",
    "if a==a.lower():\n",
    "    print(\"Lower case\")\n",
    "elif a==a.upper():\n",
    "    print(\"upper case\")"
   ]
  },
  {
   "cell_type": "code",
   "execution_count": 6,
   "id": "0cc23e7d-2ab1-4f99-b5ca-0e842ac2d1c1",
   "metadata": {},
   "outputs": [
    {
     "name": "stdin",
     "output_type": "stream",
     "text": [
      "Enter the string kanak\n"
     ]
    },
    {
     "name": "stdout",
     "output_type": "stream",
     "text": [
      "the given string is a palindrome\n"
     ]
    }
   ],
   "source": [
    "#Write a program to check whether a string is palindrome or not\n",
    "a=input(\"Enter the string\")\n",
    "s=a[::-1]\n",
    "if a==s:\n",
    "    print(\"the given string is a palindrome\")\n",
    "else:\n",
    "    print(\"the given string is nat a palindrome\")"
   ]
  },
  {
   "cell_type": "code",
   "execution_count": 27,
   "id": "4479215e-de55-4ff9-97d9-b86e23fa0f34",
   "metadata": {},
   "outputs": [
    {
     "name": "stdin",
     "output_type": "stream",
     "text": [
      " 7\n"
     ]
    },
    {
     "name": "stdout",
     "output_type": "stream",
     "text": [
      "is a prime number\n"
     ]
    }
   ],
   "source": [
    "#Write a program for prime numbers. \n",
    "n=int(input())\n",
    "for i in range(2,n//2):\n",
    "    if n%i==0:\n",
    "        print(\"not prime number\")\n",
    "        break\n",
    "    else:\n",
    "        print(\"is a prime number\")"
   ]
  },
  {
   "cell_type": "code",
   "execution_count": 7,
   "id": "85f5771b-e42e-4100-99eb-de5c665e4470",
   "metadata": {},
   "outputs": [
    {
     "name": "stdin",
     "output_type": "stream",
     "text": [
      " 146\n"
     ]
    },
    {
     "name": "stdout",
     "output_type": "stream",
     "text": [
      "641\n"
     ]
    }
   ],
   "source": [
    "#Write a program to reverse a digits of number\n",
    "n=int(input())\n",
    "rev=0\n",
    "while n>0:\n",
    "    rem=n%10\n",
    "    rev=rev*10+rem\n",
    "    n=n//10\n",
    "print(rev)"
   ]
  },
  {
   "cell_type": "code",
   "execution_count": 28,
   "id": "ebe4128d-17d0-41da-ad60-c7d7e2e92900",
   "metadata": {},
   "outputs": [
    {
     "name": "stdin",
     "output_type": "stream",
     "text": [
      " 3\n"
     ]
    },
    {
     "name": "stdout",
     "output_type": "stream",
     "text": [
      "6\n"
     ]
    }
   ],
   "source": [
    "#Write a program to find the factorial of a number.\n",
    "n=int(input())\n",
    "fact=1\n",
    "for i in range(n,0,-1):\n",
    "    fact=fact*i\n",
    "print(fact)"
   ]
  },
  {
   "cell_type": "code",
   "execution_count": null,
   "id": "c96cc809-db67-4d5f-b304-70ab0710456a",
   "metadata": {},
   "outputs": [],
   "source": []
  }
 ],
 "metadata": {
  "kernelspec": {
   "display_name": "Python 3 (ipykernel)",
   "language": "python",
   "name": "python3"
  },
  "language_info": {
   "codemirror_mode": {
    "name": "ipython",
    "version": 3
   },
   "file_extension": ".py",
   "mimetype": "text/x-python",
   "name": "python",
   "nbconvert_exporter": "python",
   "pygments_lexer": "ipython3",
   "version": "3.12.3"
  }
 },
 "nbformat": 4,
 "nbformat_minor": 5
}
