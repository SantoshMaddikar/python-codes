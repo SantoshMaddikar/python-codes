{
 "cells": [
  {
   "cell_type": "code",
   "execution_count": 30,
   "id": "5a15c659-3da7-44ef-8eba-3ee6b6c00c1f",
   "metadata": {},
   "outputs": [
    {
     "ename": "IndentationError",
     "evalue": "expected an indented block after function definition on line 2 (526304122.py, line 3)",
     "output_type": "error",
     "traceback": [
      "\u001b[1;36m  Cell \u001b[1;32mIn[30], line 3\u001b[1;36m\u001b[0m\n\u001b[1;33m    self.color=c\u001b[0m\n\u001b[1;37m    ^\u001b[0m\n\u001b[1;31mIndentationError\u001b[0m\u001b[1;31m:\u001b[0m expected an indented block after function definition on line 2\n"
     ]
    }
   ],
   "source": [
    "class vehical:\n",
    "    def __init__(self,c,p,plt,eg):\n",
    "    self.color=c\n",
    "    self.price=p\n",
    "    self.plate=plt\n",
    "    self.engine=eg\n",
    "    def product(self):\n",
    "        print(\"color              :\"),self.color\n",
    "        print(\"price              :\"),self.price\n",
    "        print(\"reg no             :\"),self.plate\n",
    "        print(\"engine power(CC)   :\"),self.engine\n",
    "\n",
    "class car(vehical):\n",
    "    def __init__(self,c,p,plt,eg,typ,nam,num,maxsp):\n",
    "        self.nam=nam\n",
    "        self.types=typ\n",
    "        self.nopass=num\n",
    "        self.maxsp=maxsp\n",
    "        super().__init__(c,p,plt,eg):\n",
    "\n",
    "    def product(self):\n",
    "        print(\"the attributes of car :          \")\n",
    "        print(\"car name              :\",self.name)\n",
    "        \n",
    "        super().product()\n",
    "        print(\"car model            :\",self.types)\n",
    "        print(\"no of passanger      :\",self.nopass)\n",
    "        print(\"max speed            :\",self.maxspd)\n",
    "\n",
    "class truck(vehical):\n",
    "    def __init__(self,c,p,plt,eg,axl,lc):\n",
    "        self.axels=axl\n",
    "        self.load=lc\n",
    "        super().__init__(c,p,plt,eg):\n",
    "\n",
    "    def product(self):\n",
    "        print(\"the attributes of truck :          \")\n",
    "        super().product()\n",
    "        print(\" no of axels           :\",self.axl)\n",
    "        print(\" load capacity         :\",self.load)\n",
    "\n",
    "if __name__==\"__main__\":\n",
    "    car=car(\"i20\",\"selver\",\"6 lakhs\",\"KA 51 Z 3400\",\"1200 CC\",\"maybach\",\"5 person\",\"180 km/h\")\n",
    "    tru=truck(\"TATA\",\"red\",\"30 lakhs\",\"KA 37 V 7658\",\"6000 CC\",\"4 axels,16 wheels\",\"4 ton\")\n",
    "\n",
    "\n",
    "\n"
   ]
  },
  {
   "cell_type": "code",
   "execution_count": 32,
   "id": "79076116-99c4-4e28-8669-685fc66456a2",
   "metadata": {},
   "outputs": [
    {
     "ename": "IndentationError",
     "evalue": "unindent does not match any outer indentation level (<string>, line 26)",
     "output_type": "error",
     "traceback": [
      "\u001b[1;36m  File \u001b[1;32m<string>:26\u001b[1;36m\u001b[0m\n\u001b[1;33m    ob.features()\u001b[0m\n\u001b[1;37m                 ^\u001b[0m\n\u001b[1;31mIndentationError\u001b[0m\u001b[1;31m:\u001b[0m unindent does not match any outer indentation level\n"
     ]
    }
   ],
   "source": [
    "class vehicle:\n",
    "    def init(self,e,rp,p,c):\n",
    "        self.engine=e\n",
    "        self.regplate=rp\n",
    "        self.price=p\n",
    "        self.colour=c\n",
    "    def features():\n",
    "        print(float(\"Engine\",self.engine,\"Regplate\",self.replate,\"Price\",self.price,\"Colour\",self.colour))\n",
    "class car(vehicle):\n",
    "    def init(self,e,rp,p,c,t,nop,ms):\n",
    "           super().init(e,rp,p,c)\n",
    "           self.type=t\n",
    "           self.noofpassanger=nop\n",
    "           self.maxspeed=ms\n",
    "    def features(self):\n",
    "        print(float(\"Car type\",self.type,\"No of passanger\",self,noofpassanger,\"Max speed\",self.maxspeed))\n",
    "class truck(vehicle):\n",
    "    def __init__(self,e,rp,p,c,noa,l):\n",
    "           super().init(e,rp,p,c)\n",
    "           self.noofaxle=noa\n",
    "           self.loadcapacity=l\n",
    "    def features(self):\n",
    "            print(float(\"No of axle\",self.noofaxle,\"Load capacity\",self.loadcapacity))\n",
    "if __name__==\"__main__\":\n",
    "     ob=car(int(input(\"Enter engine power\")),input(\"Enter the regplate\"),input(\"Enter the price\"),input(\"enter the colour\"),input(\"enter the care type\"),input(\"Enter th no of passanger\"),input(\"Enter the maxspeed\"),input(\"Enter the no of axle\"),input(\"enter the load capacity\"))\n",
    "    ob.features()\n"
   ]
  },
  {
   "cell_type": "code",
   "execution_count": 25,
   "id": "c159925c-cfb2-4cf6-8022-0407841c273b",
   "metadata": {},
   "outputs": [
    {
     "name": "stdout",
     "output_type": "stream",
     "text": [
      "<------ S-Staff Details ---------->\n",
      "Employee ID         :  10395729\n",
      "Employee Name       :  Aravinda Sametha\n",
      "Employee Salary     :  25,000\n",
      "Work Type           :  Labour\n",
      "Work Area           :  Construction\n",
      "                                                                                                 \n",
      "                                                                                                 \n",
      "<------ Developer Details ---------->\n",
      "Employee ID         :  98456151\n",
      "Employee Name       :  Raghavendra Bose\n",
      "Employee Salary     :  1,23,500\n",
      "Module              :  Payroll Management\n",
      "Technology          :  Civil Engg\n",
      "Experience          :  15 Yrs in Bajaj cement\n",
      "                                                                                                 \n",
      "                                                                                                 \n",
      "<------- Manager Details ---------->\n",
      "Employee ID         :  45213821\n",
      "Employee Name       :  Ram Teja\n",
      "Employee Salary     :  3,00,500\n",
      "Project             :  SRV Mall\n",
      "Client Name         :  Rajveer Hamsadha\n"
     ]
    }
   ],
   "source": [
    "class Employee:\n",
    "    def __init__(self,eid,nam,sal):\n",
    "        self.id=eid\n",
    "        self.name=nam\n",
    "        self.salary=sal\n",
    "    def info(self):\n",
    "        print(\"Employee ID         : \",self.id)\n",
    "        print(\"Employee Name       : \",self.name)\n",
    "        print(\"Employee Salary     : \",self.salary)\n",
    "\n",
    "class Staff(Employee):\n",
    "    def __init__(self,eid,nam,sal,typ,ar):\n",
    "        self.type=typ\n",
    "        self.area=ar\n",
    "        super().__init__(eid,nam,sal)\n",
    "        \n",
    "    def info(self):\n",
    "        print(\"<------ S-Staff Details ---------->\")\n",
    "        super().info()\n",
    "        print(\"Work Type           : \",self.type)\n",
    "        print(\"Work Area           : \",self.area)\n",
    "\n",
    "class Developer(Employee):\n",
    "    def __init__(self,eid,nam,sal,mod,tech,exp):\n",
    "        self.Mod=mod\n",
    "        self.Tech=tech\n",
    "        self.Exp=exp\n",
    "        super().__init__(eid,nam,sal)\n",
    "        \n",
    "    def info(self):\n",
    "        print(\"<------ Developer Details ---------->\")\n",
    "        super().info()\n",
    "        print(\"Module              : \",self.Mod)\n",
    "        print(\"Technology          : \",self.Tech)\n",
    "        print(\"Experience          : \",self.Exp)\n",
    "\n",
    "class Manager(Employee):\n",
    "    def __init__(self,eid,nam,sal,prj,cl):\n",
    "        self.project=prj\n",
    "        self.Client=cl\n",
    "        super().__init__(eid,nam,sal)\n",
    "        \n",
    "    def info(self):\n",
    "        print(\"<------- Manager Details ---------->\")\n",
    "        super().info()\n",
    "        print(\"Project             : \",self.project)\n",
    "        print(\"Client Name         : \",self.Client)\n",
    "\n",
    "if __name__==\"__main__\":\n",
    "    staf=Staff(\"10395729\",\"Aravinda Sametha\",\"25,000\",\"Labour\",\"Construction\")\n",
    "    staf.info()\n",
    "    print(\"                                                                                                 \")\n",
    "    print(\"                                                                                                 \")\n",
    "    devo=Developer(\"98456151\",\"Raghavendra Bose\",\"1,23,500\",\"Payroll Management\",\"Civil Engg\",\"15 Yrs in Bajaj cement\")\n",
    "    devo.info()\n",
    "    print(\"                                                                                                 \")\n",
    "    print(\"                                                                                                 \")\n",
    "    Man=Manager(\"45213821\",\"Ram Teja\",\"3,00,500\",\"SRV Mall\",\"Rajveer Hamsadha\")\n",
    "    Man.info()\n"
   ]
  },
  {
   "cell_type": "code",
   "execution_count": 33,
   "id": "9b14b432-07b2-48d6-9b6e-840a683d265f",
   "metadata": {},
   "outputs": [
    {
     "name": "stdout",
     "output_type": "stream",
     "text": [
      "* \n",
      "* * \n",
      "* * * \n",
      "* * * * \n",
      "* * * * * \n"
     ]
    }
   ],
   "source": [
    "def print_pattern(rows):\n",
    "    for i in range(1, rows + 1):\n",
    "        for j in range(1, i + 1):\n",
    "            print(\"*\", end=\" \")  # Adjust the character to form different patterns\n",
    "        print()  # Move to the next line after each row\n",
    "\n",
    "# Example usage\n",
    "num_rows = 5\n",
    "print_pattern(num_rows)"
   ]
  },
  {
   "cell_type": "code",
   "execution_count": 34,
   "id": "99d01e0a-8488-4802-876b-95cf442dc92b",
   "metadata": {},
   "outputs": [
    {
     "name": "stdout",
     "output_type": "stream",
     "text": [
      "* * * * * \n",
      "* * * * * \n",
      "* * * * * \n",
      "* * * * * \n",
      "* * * * * \n"
     ]
    }
   ],
   "source": [
    "def print_square_pattern(size):\n",
    "    for i in range(size):\n",
    "        for j in range(size):\n",
    "            print(\"*\", end=\" \")\n",
    "        print()  \n",
    "\n",
    "pattern_size = 5\n",
    "print_square_pattern(pattern_size)"
   ]
  },
  {
   "cell_type": "code",
   "execution_count": 37,
   "id": "a9f73df8-aeac-48c3-a0d2-099a72e3e1f2",
   "metadata": {},
   "outputs": [
    {
     "name": "stdout",
     "output_type": "stream",
     "text": [
      "1 1 1 1 1 \n",
      "1       1 \n",
      "1       1 \n",
      "1       1 \n",
      "1 1 1 1 1 \n"
     ]
    }
   ],
   "source": [
    "def print_square_border(size):\n",
    "    for i in range(size):\n",
    "        for j in range(size):\n",
    "            if i == 0 or i == size - 1 or j == 0 or j == size - 1:\n",
    "                print(\"1\", end=\" \")\n",
    "            else:\n",
    "                print(\" \", end=\" \")  \n",
    "        print()  \n",
    "\n",
    "border_size = 5\n",
    "print_square_border(border_size)"
   ]
  },
  {
   "cell_type": "code",
   "execution_count": 66,
   "id": "1cf89fdb-e123-445e-b527-2d78440fbd26",
   "metadata": {},
   "outputs": [
    {
     "name": "stdout",
     "output_type": "stream",
     "text": [
      "* * * * * *  \n",
      "* * * * * *  \n",
      "* * * * * *  \n",
      "* * * * * *  \n",
      "* * * * * *  \n",
      "* * * * * *  \n"
     ]
    }
   ],
   "source": [
    "for i in range(1,7):\n",
    "    for j in range(1,7):\n",
    "        if i==1 or i==6 or j==1 or j==6:\n",
    "            print(\"*\",end=\" \")\n",
    "        else:\n",
    "            print(\"*\",end=\" \")    \n",
    "    print(\" \")"
   ]
  },
  {
   "cell_type": "code",
   "execution_count": 70,
   "id": "a9536d14-650d-46b2-b944-4f252d5495e1",
   "metadata": {},
   "outputs": [
    {
     "name": "stdout",
     "output_type": "stream",
     "text": [
      " 6  5  4  3  2  1 \n",
      " 5  4  3  2  1 \n",
      " 4  3  2  1 \n",
      " 3  2  1 \n",
      " 2  1 \n",
      " 1 \n"
     ]
    }
   ],
   "source": [
    "for i in range(6,0,-1):\n",
    "        for j in range(i,0,-1):\n",
    "            #print(f\"{num} \",end=\" \")\n",
    "            print(\"\",j,end=\" \")\n",
    "        print('')"
   ]
  },
  {
   "cell_type": "code",
   "execution_count": 79,
   "id": "42adc092-4f84-46ff-9aaf-7c8022ed7157",
   "metadata": {},
   "outputs": [
    {
     "name": "stdout",
     "output_type": "stream",
     "text": [
      "\n",
      " 1 \n",
      " 1  2 \n",
      " 1  2  3 \n",
      " 1  2  3  4 \n",
      " 1  2  3  4  5 \n"
     ]
    }
   ],
   "source": [
    "for i in range(1,7):\n",
    "        for j in range(1,i):\n",
    "            #print(f\"{num} \",end=\" \")\n",
    "            print(\"\",j,end=\" \")\n",
    "            \n",
    "        print('')"
   ]
  },
  {
   "cell_type": "code",
   "execution_count": 80,
   "id": "0d1d3722-9628-43b0-b441-ddf58f375082",
   "metadata": {},
   "outputs": [
    {
     "name": "stdout",
     "output_type": "stream",
     "text": [
      "*  *  *  *  *  *  *  *  *  *  \n",
      "*  *  *  *  *  *  *  *  *  \n",
      "*  *  *  *  *  *  *  *  \n",
      "*  *  *  *  *  *  *  \n",
      "*  *  *  *  *  *  \n",
      "*  *  *  *  *  \n",
      "*  *  *  *  \n",
      "*  *  *  \n",
      "*  *  \n",
      "*  \n"
     ]
    }
   ],
   "source": [
    "for i in range(0,10):\n",
    "        for j in range(i,10):\n",
    "            print(\"* \",end=\" \")\n",
    "        print('')"
   ]
  },
  {
   "cell_type": "code",
   "execution_count": 81,
   "id": "b09e5182-9933-4509-9f34-ba42753486ff",
   "metadata": {},
   "outputs": [
    {
     "name": "stdout",
     "output_type": "stream",
     "text": [
      "\n",
      " 1 \n",
      " 2  3 \n",
      " 4  5  6 \n",
      " 7  8  9  10 \n",
      " 11  12  13  14  15 \n"
     ]
    }
   ],
   "source": [
    "num=1\n",
    "for i in range(6):\n",
    "        for j in range(i):\n",
    "            #print(f\"{num} \",end=\" \")\n",
    "            print(\"\",num,end=\" \")\n",
    "            num+=1\n",
    "        print('')"
   ]
  },
  {
   "cell_type": "code",
   "execution_count": 83,
   "id": "c3530953-9846-4f1d-a028-8f4bd6141daf",
   "metadata": {},
   "outputs": [
    {
     "name": "stdout",
     "output_type": "stream",
     "text": [
      "* * * * * * \n",
      "*         * \n",
      "*         * \n",
      "*         * \n",
      "*         * \n",
      "* * * * * * \n"
     ]
    }
   ],
   "source": [
    "for i in range(1,7):\n",
    "    for j in range(1,7):\n",
    "        if i==1 or i==6 or j==1 or j==6:\n",
    "            print(\"*\",end=\" \")\n",
    "        else:\n",
    "            print(\" \",end=\" \")\n",
    "       \n",
    "    print('')"
   ]
  },
  {
   "cell_type": "code",
   "execution_count": 94,
   "id": "7b031b75-860d-4128-a79a-c155cfa8eace",
   "metadata": {},
   "outputs": [
    {
     "name": "stdout",
     "output_type": "stream",
     "text": [
      "\n",
      "1 \n",
      "0 1 \n",
      "1 0 1 \n",
      "0 1 0 1 \n"
     ]
    }
   ],
   "source": [
    "#1\n",
    "for i in range(5):\n",
    "        for j in range(i):\n",
    "            if (i-j)%2==0:\n",
    "                print(\"0\",end=\" \")\n",
    "            else:\n",
    "                print(\"1\",end=\" \")\n",
    "         \n",
    "    \n",
    "        print('')"
   ]
  },
  {
   "cell_type": "code",
   "execution_count": 1,
   "id": "09b16cb6-093f-46be-8be5-e6755ea26796",
   "metadata": {},
   "outputs": [
    {
     "name": "stdin",
     "output_type": "stream",
     "text": [
      " 6\n"
     ]
    },
    {
     "name": "stdout",
     "output_type": "stream",
     "text": [
      "          * \n",
      "        * * * \n",
      "      * * * * * \n",
      "    * * * * * * * \n",
      "  * * * * * * * * * \n",
      "* * * * * * * * * * * \n"
     ]
    }
   ],
   "source": [
    "25.#pattern12\n",
    "n=int(input())\n",
    "for i in range(1,n+1):\n",
    "    for j in range(1,n-i+1):\n",
    "        print(\" \",end=\" \")\n",
    "    for j in range(0,2*i-1):\n",
    "        print(\"*\",end=\" \")\n",
    "    print()\n",
    "\n"
   ]
  },
  {
   "cell_type": "code",
   "execution_count": 2,
   "id": "cfe5d776-fac0-4c88-b58f-4a3bb8f4f87d",
   "metadata": {},
   "outputs": [
    {
     "name": "stdin",
     "output_type": "stream",
     "text": [
      " 9\n"
     ]
    },
    {
     "name": "stdout",
     "output_type": "stream",
     "text": [
      "                * \n",
      "              *   * \n",
      "            *       * \n",
      "          *           * \n",
      "        *               * \n",
      "      *                   * \n",
      "    *                       * \n",
      "  *                           * \n",
      "* * * * * * * * * * * * * * * * * \n"
     ]
    }
   ],
   "source": [
    "26.#pattern13\n",
    "n=int(input())\n",
    "for i in range(1,n+1):\n",
    "    if i==1 or i==n:\n",
    "         for j in range(1,n-i+1):\n",
    "             print(\" \",end=\" \")\n",
    "         for j in range(0,2*i-1):\n",
    "             print(\"*\",end=\" \")\n",
    "         print()\n",
    "    else:\n",
    "        for j in range(1,n-i+1):\n",
    "            print(\" \",end=\" \")\n",
    "        for j in range(0,2*i-1):\n",
    "            if j==0 or j==2*i-2:\n",
    "                print(\"*\",end=\" \")\n",
    "            else:\n",
    "                print(\" \",end=\" \")\n",
    "        print()\n",
    "\n",
    "\n"
   ]
  },
  {
   "cell_type": "code",
   "execution_count": 3,
   "id": "2b7ae618-46e7-4d79-af44-a07c0259f679",
   "metadata": {},
   "outputs": [
    {
     "name": "stdin",
     "output_type": "stream",
     "text": [
      " 9\n"
     ]
    },
    {
     "name": "stdout",
     "output_type": "stream",
     "text": [
      "                * \n",
      "              * * * \n",
      "            * * * * * \n",
      "          * * * * * * * \n",
      "        * * * * * * * * * \n",
      "      * * * * * * * * * * * \n",
      "    * * * * * * * * * * * * * \n",
      "  * * * * * * * * * * * * * * * \n",
      "* * * * * * * * * * * * * * * * * \n",
      "  * * * * * * * * * * * * * * * \n",
      "    * * * * * * * * * * * * * \n",
      "      * * * * * * * * * * * \n",
      "        * * * * * * * * * \n",
      "          * * * * * * * \n",
      "            * * * * * \n",
      "              * * * \n",
      "                * \n"
     ]
    }
   ],
   "source": [
    "27.#pattern14\n",
    "n=int(input())\n",
    "for i in range(1,n+1):\n",
    "         for j in range(1,n-i+1):\n",
    "             print(\" \",end=\" \")\n",
    "         for j in range(0,2*i-1):\n",
    "             print(\"*\",end=\" \")\n",
    "         print()\n",
    "for i in range(n-1,0,-1):\n",
    "         for j in range(1,n-i+1):\n",
    "             print(\" \",end=\" \")\n",
    "         for j in range(0,2*i-1):\n",
    "             print(\"*\",end=\" \")\n",
    "         print()\n",
    "\n",
    "\n"
   ]
  },
  {
   "cell_type": "code",
   "execution_count": 4,
   "id": "2beb6f45-dfb5-4d8b-aa9b-0948b632bc52",
   "metadata": {},
   "outputs": [
    {
     "name": "stdin",
     "output_type": "stream",
     "text": [
      " 9\n"
     ]
    },
    {
     "name": "stdout",
     "output_type": "stream",
     "text": [
      "                * \n",
      "              *   * \n",
      "            *       * \n",
      "          *           * \n",
      "        *               * \n",
      "      *                   * \n",
      "    *                       * \n",
      "  *                           * \n",
      "*                               * \n",
      "  *                           * \n",
      "    *                       * \n",
      "      *                   * \n",
      "        *               * \n",
      "          *           * \n",
      "            *       * \n",
      "              *   * \n",
      "                * \n"
     ]
    }
   ],
   "source": [
    "28.#pattern15\n",
    "n=int(input())\n",
    "for i in range(1,n+1):\n",
    "    if i==1:\n",
    "        for j in range(1,n-i+1):\n",
    "            print(\" \",end=\" \")\n",
    "        for j in range(0,2*i-1):\n",
    "            print(\"*\",end=\" \")\n",
    "        print()\n",
    "    else:\n",
    "        for j in range(1,n-i+1):\n",
    "            print(\" \",end=\" \")\n",
    "        for j in range(0,2*i-1):\n",
    "            if j==0 or j==2*i-2:\n",
    "                print(\"*\",end=\" \")\n",
    "            else:\n",
    "                print(\" \",end=\" \")\n",
    "        print()\n",
    "for i in range(n-1,0,-1):\n",
    "    if i==1:\n",
    "        for j in range(1,n-i+1):\n",
    "            print(\" \",end=\" \")\n",
    "        for j in range(0,2*i-1):\n",
    "            print(\"*\",end=\" \")\n",
    "        print()\n",
    "    else:\n",
    "        for j in range(1,n-i+1):\n",
    "            print(\" \",end=\" \")\n",
    "        for j in range(0,2*i-1):\n",
    "            if j==0 or j==2*i-2:\n",
    "                print(\"*\",end=\" \")\n",
    "            else:\n",
    "                print(\" \",end=\" \")\n",
    "        print()\n",
    "\n"
   ]
  },
  {
   "cell_type": "code",
   "execution_count": 5,
   "id": "bea56276-f28a-4d3b-bd2b-a0c1af4f2239",
   "metadata": {},
   "outputs": [
    {
     "name": "stdin",
     "output_type": "stream",
     "text": [
      " 9\n"
     ]
    },
    {
     "name": "stdout",
     "output_type": "stream",
     "text": [
      "                *                                 * \n",
      "              * * *                             * * * \n",
      "            * * * * *                         * * * * * \n",
      "          * * * * * * *                     * * * * * * * \n",
      "        * * * * * * * * *                 * * * * * * * * * \n",
      "      * * * * * * * * * * *             * * * * * * * * * * * \n",
      "    * * * * * * * * * * * * *         * * * * * * * * * * * * * \n",
      "  * * * * * * * * * * * * * * *     * * * * * * * * * * * * * * * \n",
      "* * * * * * * * * * * * * * * * * * * * * * * * * * * * * * * * * * \n"
     ]
    }
   ],
   "source": [
    "29.#pattern16\n",
    "n=int(input())\n",
    "for i in range(1,n+1):\n",
    "         for j in range(1,n-i+1):\n",
    "             print(\" \",end=\" \")\n",
    "         for j in range(0,2*i-1):\n",
    "             print(\"*\",end=\" \")\n",
    "         for j in range(1,(n-i+1)*2):\n",
    "             if j!=(n-i+1)*2-1:\n",
    "                    print(\" \",end=\" \")\n",
    "         for j in range(0,2*i-1):\n",
    "             print(\"*\",end=\" \")\n",
    "         print()\n",
    "\n",
    "\n"
   ]
  },
  {
   "cell_type": "code",
   "execution_count": 6,
   "id": "9a927538-6938-4a15-8623-c5924894064f",
   "metadata": {},
   "outputs": [
    {
     "name": "stdin",
     "output_type": "stream",
     "text": [
      " 9\n"
     ]
    },
    {
     "name": "stdout",
     "output_type": "stream",
     "text": [
      "                *                                 * \n",
      "              * * *                             * * * \n",
      "            * * * * *                         * * * * * \n",
      "          * * * * * * *                     * * * * * * * \n",
      "        * * * * * * * * *                 * * * * * * * * * \n",
      "      * * * * * * * * * * *             * * * * * * * * * * * \n",
      "    * * * * * * * * * * * * *         * * * * * * * * * * * * * \n",
      "  * * * * * * * * * * * * * * *     * * * * * * * * * * * * * * * \n",
      "* * * * * * * * * * * * * * * * * * * * * * * * * * * * * * * * * * \n",
      "* * * * * * * * * * * * * * * * * * * * * * * * * * * * * * * * * \n",
      "  * * * * * * * * * * * * * * * * * * * * * * * * * * * * * * * \n",
      "    * * * * * * * * * * * * * * * * * * * * * * * * * * * * * \n",
      "      * * * * * * * * * * * * * * * * * * * * * * * * * * * \n",
      "        * * * * * * * * * * * * * * * * * * * * * * * * * \n",
      "          * * * * * * * * * * * * * * * * * * * * * * * \n",
      "            * * * * * * * * * * * * * * * * * * * * * \n",
      "              * * * * * * * * * * * * * * * * * * * \n",
      "                * * * * * * * * * * * * * * * * * \n",
      "                  * * * * * * * * * * * * * * * \n",
      "                    * * * * * * * * * * * * * \n",
      "                      * * * * * * * * * * * \n",
      "                        * * * * * * * * * \n",
      "                          * * * * * * * \n",
      "                            * * * * * \n",
      "                              * * * \n",
      "                                * \n"
     ]
    }
   ],
   "source": [
    "30.#pattern17\n",
    "n=int(input())\n",
    "for i in range(1,n+1):\n",
    "         for j in range(1,n-i+1):\n",
    "             print(\" \",end=\" \")\n",
    "         for j in range(0,2*i-1):\n",
    "             print(\"*\",end=\" \")\n",
    "         for j in range(1,(n-i+1)*2):\n",
    "             if j!=(n-i+1)*2-1:\n",
    "                    print(\" \",end=\" \")\n",
    "         for j in range(0,2*i-1):\n",
    "             print(\"*\",end=\" \")\n",
    "         print()\n",
    "for i in range((2*n-1),0,-1):\n",
    "         for j in range(1,(2*n)-i):\n",
    "             print(\" \",end=\" \")\n",
    "         for j in range(0,2*i-1):\n",
    "             print(\"*\",end=\" \")\n",
    "         print()\n"
   ]
  },
  {
   "cell_type": "code",
   "execution_count": null,
   "id": "41337c79-902b-4c9d-8d84-7f8874cc6ded",
   "metadata": {},
   "outputs": [
    {
     "name": "stdin",
     "output_type": "stream",
     "text": [
      " 9\n"
     ]
    },
    {
     "name": "stdout",
     "output_type": "stream",
     "text": [
      "* * * * * * * * * \n",
      "*               * \n",
      "*               * \n",
      "*               * \n",
      "*               * \n",
      "*               * \n",
      "*               * \n",
      "*               * \n",
      "* * * * * * * * * \n",
      "*               * \n",
      "*               * \n",
      "*               * \n",
      "*               * \n",
      "*               * \n",
      "*               * \n",
      "*               * \n",
      "* * * * * * * * * \n"
     ]
    }
   ],
   "source": [
    "31.#pattern18\n",
    "n=int(input())\n",
    "for i in range(n):\n",
    "    if i==0 or i==n-1:\n",
    "        for j in range(n):\n",
    "            print(\"*\",end=\" \")\n",
    "        print()\n",
    "    else: \n",
    "        for j in range(n):\n",
    "            if j==0 or j==n-1:\n",
    "                print(\"*\",end=\" \")\n",
    "            else: \n",
    "                print(\" \",end=\" \")\n",
    "        print()\n",
    "for i in range(1,n):\n",
    "    if  i==n-1:\n",
    "        for j in range(n):\n",
    "            print(\"*\",end=\" \")\n",
    "        print()\n",
    "    else: \n",
    "        for j in range(n):\n",
    "            if j==0 or j==n-1:\n",
    "                print(\"*\",end=\" \")\n",
    "            else: \n",
    "                print(\" \",end=\" \")\n",
    "        print()\n",
    "\n",
    "\n"
   ]
  },
  {
   "cell_type": "code",
   "execution_count": null,
   "id": "97a86586-a1b4-453c-a225-e536f8dca0b7",
   "metadata": {},
   "outputs": [],
   "source": []
  }
 ],
 "metadata": {
  "kernelspec": {
   "display_name": "Python 3 (ipykernel)",
   "language": "python",
   "name": "python3"
  },
  "language_info": {
   "codemirror_mode": {
    "name": "ipython",
    "version": 3
   },
   "file_extension": ".py",
   "mimetype": "text/x-python",
   "name": "python",
   "nbconvert_exporter": "python",
   "pygments_lexer": "ipython3",
   "version": "3.12.3"
  }
 },
 "nbformat": 4,
 "nbformat_minor": 5
}
