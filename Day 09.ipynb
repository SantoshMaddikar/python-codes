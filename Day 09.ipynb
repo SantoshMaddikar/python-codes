{
 "cells": [
  {
   "cell_type": "code",
   "execution_count": 1,
   "id": "59294867-8eea-4dde-8ce3-fd07aba6977c",
   "metadata": {},
   "outputs": [
    {
     "name": "stdin",
     "output_type": "stream",
     "text": [
      " (gjgrhfh{gdyfguerwu{hbdjhg[jgdfhgh]}})\n"
     ]
    },
    {
     "name": "stdout",
     "output_type": "stream",
     "text": [
      "it is valid\n"
     ]
    }
   ],
   "source": [
    "s=[]\n",
    "count=0\n",
    "exp=input()\n",
    "for e in exp:\n",
    "    if e=='(' or e=='['or e=='{':\n",
    "        s.append(e)\n",
    "    elif (e==')' and s[-1]=='(')or (e==']' and s[-1]=='[')or (e=='}'and s[-1]=='{'):\n",
    "        s.pop()\n",
    "        \n",
    "    else:\n",
    "        continue\n",
    "if not s:\n",
    "    print(\"it is valid\")\n",
    "else:\n",
    "    print(\"in-valid\")"
   ]
  },
  {
   "cell_type": "code",
   "execution_count": null,
   "id": "53a168b2-b663-4fce-ba20-a002de542455",
   "metadata": {},
   "outputs": [],
   "source": []
  }
 ],
 "metadata": {
  "kernelspec": {
   "display_name": "Python 3 (ipykernel)",
   "language": "python",
   "name": "python3"
  },
  "language_info": {
   "codemirror_mode": {
    "name": "ipython",
    "version": 3
   },
   "file_extension": ".py",
   "mimetype": "text/x-python",
   "name": "python",
   "nbconvert_exporter": "python",
   "pygments_lexer": "ipython3",
   "version": "3.12.3"
  }
 },
 "nbformat": 4,
 "nbformat_minor": 5
}
