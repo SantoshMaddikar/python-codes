{
 "cells": [
  {
   "cell_type": "code",
   "execution_count": 1,
   "id": "573f3bc9-aca8-47c9-9b21-e46525272278",
   "metadata": {},
   "outputs": [
    {
     "name": "stdin",
     "output_type": "stream",
     "text": [
      "Enter the limit: 6\n"
     ]
    },
    {
     "name": "stdout",
     "output_type": "stream",
     "text": [
      "Enter the Numbers: \n"
     ]
    },
    {
     "name": "stdin",
     "output_type": "stream",
     "text": [
      " 1\n",
      " 9\n",
      " 4\n",
      " 8\n",
      " 2\n",
      " 6\n"
     ]
    },
    {
     "name": "stdout",
     "output_type": "stream",
     "text": [
      " Before Sorting:  [1, 9, 4, 8, 2, 6]\n",
      " In Ascending Order\n",
      "[1, 2, 4, 6, 8, 9]\n",
      " In Descending Order\n",
      "[9, 8, 6, 4, 2, 1]\n"
     ]
    }
   ],
   "source": [
    "#bubble sort\n",
    "l=[]\n",
    "n=int(input(\"Enter the limit:\"))\n",
    "print(\"Enter the Numbers: \")\n",
    "for i in range(0,n,+1):\n",
    "    a=int(input())\n",
    "    l.append(a)\n",
    "    \n",
    "print(\" Before Sorting: \",l)\n",
    "print(\" In Ascending Order\")\n",
    "for i in range(0,len(l)-1):\n",
    "    for j in range(i+1,len(l)):\n",
    "        if l[i]>l[j]:\n",
    "            l[i],l[j]=l[j],l[i]\n",
    "\n",
    "print(l)\n",
    "\n",
    "print(\" In Descending Order\")\n",
    "for i in range(0,len(l)-1):\n",
    "    for j in range(i+1,len(l)):\n",
    "        if l[i]<l[j]:\n",
    "            l[i],l[j]=l[j],l[i]\n",
    "\n",
    "print(l)\n"
   ]
  },
  {
   "cell_type": "code",
   "execution_count": 9,
   "id": "15cbc379-12bb-4323-8bf2-3ed947aa057c",
   "metadata": {},
   "outputs": [
    {
     "ename": "TypeError",
     "evalue": "list indices must be integers or slices, not builtin_function_or_method",
     "output_type": "error",
     "traceback": [
      "\u001b[1;31m---------------------------------------------------------------------------\u001b[0m",
      "\u001b[1;31mTypeError\u001b[0m                                 Traceback (most recent call last)",
      "Cell \u001b[1;32mIn[9], line 6\u001b[0m\n\u001b[0;32m      4\u001b[0m min_idex\u001b[38;5;241m=\u001b[39mi\n\u001b[0;32m      5\u001b[0m \u001b[38;5;28;01mfor\u001b[39;00m j \u001b[38;5;129;01min\u001b[39;00m \u001b[38;5;28mrange\u001b[39m(i\u001b[38;5;241m+\u001b[39m\u001b[38;5;241m1\u001b[39m,\u001b[38;5;28mlen\u001b[39m(arr)):\n\u001b[1;32m----> 6\u001b[0m     \u001b[38;5;28;01mif\u001b[39;00m \u001b[43marr\u001b[49m\u001b[43m[\u001b[49m\u001b[38;5;28;43mmin\u001b[39;49m\u001b[43m]\u001b[49m\u001b[38;5;241m>\u001b[39marr[j]:\n\u001b[0;32m      7\u001b[0m         min_idx\u001b[38;5;241m=\u001b[39mj\n\u001b[0;32m      8\u001b[0m     temp\u001b[38;5;241m=\u001b[39marr[i]\n",
      "\u001b[1;31mTypeError\u001b[0m: list indices must be integers or slices, not builtin_function_or_method"
     ]
    }
   ],
   "source": [
    "arr=[5,4,8,1,9,6,7]\n",
    "\n",
    "for i in range(0,len(arr)):\n",
    "    min_idex=i\n",
    "    for j in range(i+1,len(arr)):\n",
    "        if arr[min]>arr[j]:\n",
    "            min_idx=j\n",
    "        temp=arr[i]\n",
    "        arr[i]=arr[min_idx]\n",
    "        arr[min_idx]=temp\n",
    "\n",
    "print(arr)"
   ]
  },
  {
   "cell_type": "code",
   "execution_count": 11,
   "id": "717535ae-be8c-43fa-b4d3-c7bff7f1d14d",
   "metadata": {},
   "outputs": [
    {
     "ename": "SyntaxError",
     "evalue": "invalid non-printable character U+00A0 (262237852.py, line 9)",
     "output_type": "error",
     "traceback": [
      "\u001b[1;36m  Cell \u001b[1;32mIn[11], line 9\u001b[1;36m\u001b[0m\n\u001b[1;33m    arr[j + 1] = key\u001b[0m\n\u001b[1;37m                ^\u001b[0m\n\u001b[1;31mSyntaxError\u001b[0m\u001b[1;31m:\u001b[0m invalid non-printable character U+00A0\n"
     ]
    }
   ],
   "source": [
    "arr=[5,2,8,6,1,0,7,9]\n",
    "    \n",
    "for i in range(1, len(arr)):\n",
    "    key = arr[i]\n",
    "    j = i-1\n",
    "    while j >= 0 and key < arr[j] :\n",
    "        arr[j + 1] = arr[j]\n",
    "        j -= 1\n",
    "        arr[j + 1] = key\n",
    "print(arr)"
   ]
  },
  {
   "cell_type": "code",
   "execution_count": null,
   "id": "41cc56e3-e7c6-4d9a-832e-e245d578c99c",
   "metadata": {},
   "outputs": [],
   "source": [
    "print ("
   ]
  }
 ],
 "metadata": {
  "kernelspec": {
   "display_name": "Python 3 (ipykernel)",
   "language": "python",
   "name": "python3"
  },
  "language_info": {
   "codemirror_mode": {
    "name": "ipython",
    "version": 3
   },
   "file_extension": ".py",
   "mimetype": "text/x-python",
   "name": "python",
   "nbconvert_exporter": "python",
   "pygments_lexer": "ipython3",
   "version": "3.12.3"
  }
 },
 "nbformat": 4,
 "nbformat_minor": 5
}
